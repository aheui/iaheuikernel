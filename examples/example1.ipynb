{
 "cells": [
  {
   "cell_type": "markdown",
   "metadata": {},
   "source": [
    "# 예제 1"
   ]
  },
  {
   "cell_type": "code",
   "execution_count": null,
   "metadata": {
    "collapsed": false
   },
   "outputs": [],
   "source": [
    "반맣희"
   ]
  },
  {
   "cell_type": "markdown",
   "metadata": {},
   "source": [
    "### 국립국어원의 트윗 https://twitter.com/urimaI365/status/652150134717808642 "
   ]
  },
  {
   "cell_type": "code",
   "execution_count": null,
   "metadata": {
    "collapsed": false
   },
   "outputs": [],
   "source": [
    "밟따빠따밣따밟빠뚜\n",
    "밟따밣나타밦붏땨벏\n",
    "나다뿌냐벖발뛔빠밟\n",
    "벍떠뵓너뫃뻐터투너\n",
    "붇너나볿뿌뻐터벓튜\n",
    "너볿뻐멓멓누벌멓볼\n",
    "누벏뻐더너빠볃뽀터\n",
    "밟나다밣빠따다맣희"
   ]
  },
  {
   "cell_type": "markdown",
   "metadata": {},
   "source": [
    "### 안녕하세요"
   ]
  },
  {
   "cell_type": "code",
   "execution_count": 1,
   "metadata": {
    "collapsed": false
   },
   "outputs": [
    {
     "name": "stdout",
     "output_type": "stream",
     "text": [
      "안녕하세요?\n"
     ]
    }
   ],
   "source": [
    "어두벊벖버범벅벖떠벋벍떠벑번뻐버떠뻐벚벌버더벊벖떠벛벜버버\n",
    "　뿌멓더떠떠떠떠더벋떠벌뻐뻐뻐\n",
    "붉차밠밪따따다밠밨따따다　박봃\n",
    "받빠따따맣반발따맣아희"
   ]
  },
  {
   "cell_type": "markdown",
   "metadata": {},
   "source": [
    "### Hello World https://github.com/aheui/snippets/blob/master/hello-world/hello-world.puzzlet.aheui"
   ]
  },
  {
   "cell_type": "code",
   "execution_count": null,
   "metadata": {
    "collapsed": false
   },
   "outputs": [],
   "source": [
    "밤밣따빠밣밟따뿌\n",
    "빠맣파빨받밤뚜뭏\n",
    "돋밬탕빠맣붏두붇\n",
    "볻뫃박발뚷투뭏붖\n",
    "뫃도뫃희멓뭏뭏붘\n",
    "뫃봌토범더벌뿌뚜\n",
    "뽑뽀멓멓더벓뻐뚠\n",
    "뽀덩벐멓뻐덕더벅"
   ]
  },
  {
   "cell_type": "markdown",
   "metadata": {},
   "source": [
    "### 99단 https://github.com/aheui/snippets/blob/master/99dan/99dan.aheui"
   ]
  },
  {
   "cell_type": "code",
   "execution_count": 2,
   "metadata": {
    "collapsed": false,
    "scrolled": false
   },
   "outputs": [
    {
     "name": "stdout",
     "output_type": "stream",
     "text": [
      "2*1=2\n",
      "2*2=4\n",
      "2*3=6\n",
      "2*4=8\n",
      "2*5=10\n",
      "2*6=12\n",
      "2*7=14\n",
      "2*8=16\n",
      "2*9=18\n",
      "3*1=3\n",
      "3*2=6\n",
      "3*3=9\n",
      "3*4=12\n",
      "3*5=15\n",
      "3*6=18\n",
      "3*7=21\n",
      "3*8=24\n",
      "3*9=27\n",
      "4*1=4\n",
      "4*2=8\n",
      "4*3=12\n",
      "4*4=16\n",
      "4*5=20\n",
      "4*6=24\n",
      "4*7=28\n",
      "4*8=32\n",
      "4*9=36\n",
      "5*1=5\n",
      "5*2=10\n",
      "5*3=15\n",
      "5*4=20\n",
      "5*5=25\n",
      "5*6=30\n",
      "5*7=35\n",
      "5*8=40\n",
      "5*9=45\n",
      "6*1=6\n",
      "6*2=12\n",
      "6*3=18\n",
      "6*4=24\n",
      "6*5=30\n",
      "6*6=36\n",
      "6*7=42\n",
      "6*8=48\n",
      "6*9=54\n",
      "7*1=7\n",
      "7*2=14\n",
      "7*3=21\n",
      "7*4=28\n",
      "7*5=35\n",
      "7*6=42\n",
      "7*7=49\n",
      "7*8=56\n",
      "7*9=63\n",
      "8*1=8\n",
      "8*2=16\n",
      "8*3=24\n",
      "8*4=32\n",
      "8*5=40\n",
      "8*6=48\n",
      "8*7=56\n",
      "8*8=64\n",
      "8*9=72\n",
      "9*1=9\n",
      "9*2=18\n",
      "9*3=27\n",
      "9*4=36\n",
      "9*5=45\n",
      "9*6=54\n",
      "9*7=63\n",
      "9*8=72\n",
      "9*9=81\n"
     ]
    }
   ],
   "source": [
    "삼바반빠빠빠빠빠빠아아우\n",
    "우어어번벋범벌벖벍벓벒석\n",
    "삭싿삳빠빠빠빠빠빠빠빠술\n",
    "초섬어어어어쑫썽뻐선썽부\n",
    "숭밝밦따뭏오삳따쌍술뽀분\n",
    "망속숙멍성오어어어차솓뿌\n",
    "송어밢밦따밝다맣상뭉노뿌\n",
    "ㄹ모뻐희셩멓떠벌번선뽀뿌\n",
    "최종찬만듦밦발밤받반뽀뿌\n",
    "유덕남고침볽벓벒선뻐뻐뻐"
   ]
  },
  {
   "cell_type": "code",
   "execution_count": null,
   "metadata": {
    "collapsed": true
   },
   "outputs": [],
   "source": []
  }
 ],
 "metadata": {
  "kernelspec": {
   "display_name": "Python 3",
   "language": "python",
   "name": "python3"
  }
 },
 "nbformat": 4,
 "nbformat_minor": 0
}
